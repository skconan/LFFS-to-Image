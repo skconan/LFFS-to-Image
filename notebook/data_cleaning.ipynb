{
 "cells": [
  {
   "attachments": {},
   "cell_type": "markdown",
   "metadata": {},
   "source": [
    "# Filtering the rolled and latent mates \n",
    "\n",
    "present in the finger position annotation in the SD302h subset."
   ]
  },
  {
   "cell_type": "code",
   "execution_count": null,
   "metadata": {},
   "outputs": [],
   "source": [
    "import os\n",
    "import sys\n",
    "import pandas as pd\n",
    "\n",
    "sys.path.append(os.path.abspath('../src'))\n",
    "from utils.file import list_files, make_dirs, get_file_name\n"
   ]
  },
  {
   "attachments": {},
   "cell_type": "markdown",
   "metadata": {},
   "source": [
    "## NIST SD302h path"
   ]
  },
  {
   "cell_type": "code",
   "execution_count": null,
   "metadata": {},
   "outputs": [],
   "source": [
    "latent_dir = r'H:\\Workspace\\KSIP\\02_Database\\00_ORIGINAL\\NIST_SD302\\sd302e\\images\\latent\\png'\n",
    "csv_path = r'H:\\Workspace\\KSIP\\02_Database\\00_ORIGINAL\\NIST_SD302\\sd302h\\ebts\\latent\\finger_positions.csv'"
   ]
  },
  {
   "cell_type": "code",
   "execution_count": null,
   "metadata": {},
   "outputs": [],
   "source": [
    "data = pd.read_csv(csv_path)\n",
    "display(data.head())\n",
    "display(data.tail())\n",
    "data.count()\n"
   ]
  },
  {
   "cell_type": "code",
   "execution_count": null,
   "metadata": {},
   "outputs": [],
   "source": [
    "data.describe()"
   ]
  },
  {
   "cell_type": "markdown",
   "metadata": {},
   "source": [
    "## Filter Nan"
   ]
  },
  {
   "cell_type": "code",
   "execution_count": null,
   "metadata": {},
   "outputs": [],
   "source": [
    "data = data.dropna()\n",
    "display(data.count())\n",
    "data.describe()\n"
   ]
  },
  {
   "cell_type": "code",
   "execution_count": null,
   "metadata": {},
   "outputs": [],
   "source": [
    "ct = 0\n",
    "finger_pos = {'filename':[]}\n",
    "for d in data.iterrows():\n",
    "    d = d[1]\n",
    "    filename = d.filename\n",
    "    if 'X' in filename:\n",
    "        continue\n",
    "    ct += 1\n",
    "print(ct)\n",
    "    "
   ]
  },
  {
   "attachments": {},
   "cell_type": "markdown",
   "metadata": {},
   "source": [
    "## Filter impression"
   ]
  },
  {
   "cell_type": "code",
   "execution_count": null,
   "metadata": {},
   "outputs": [],
   "source": [
    "ct = 0\n",
    "finger_pos = {'filename':[]}\n",
    "for d in data.iterrows():\n",
    "    d = d[1]\n",
    "    filename = d.filename\n",
    "    # print(filename)\n",
    "    filename_split = filename.split(\"_\")\n",
    "    subject = filename_split[0]\n",
    "    # img_path = os.path.join(img_dir, '%s/%s'%(subject, filename.replace('.lffs','').replace('1000PPI','').replace('-1_1', '_1')))\n",
    "    # print(img_path)\n",
    "    if '-2' in filename or '-3' in filename or '-4' in filename:\n",
    "        continue\n",
    "    finger_pos['filename'].append('%s_x_%02d.png'%(subject,d.fgp))\n",
    "    ct += 1\n",
    "print(ct)\n",
    "    "
   ]
  },
  {
   "cell_type": "code",
   "execution_count": null,
   "metadata": {},
   "outputs": [],
   "source": [
    "df_finger_pos = pd.DataFrame(finger_pos)\n",
    "df_finger_pos"
   ]
  },
  {
   "cell_type": "code",
   "execution_count": null,
   "metadata": {},
   "outputs": [],
   "source": [
    "img_roll_dir = r'H:\\Workspace\\KSIP\\02_Database\\00_ORIGINAL\\NIST_SD302\\sd302b\\images\\baseline\\U\\500\\roll\\png'\n",
    "img_roll_dir = r'H:\\Workspace\\KSIP\\02_Database\\00_ORIGINAL\\NIST_SD302\\sd302b\\images\\baseline\\V\\500\\roll\\png'\n",
    "\n",
    "name = set()\n",
    "ct = 0\n",
    "for d in df_finger_pos.iterrows():\n",
    "    d = d[1]\n",
    "    filename = d.filename\n",
    "    print(filename)\n",
    "    subject = filename_split[0]\n",
    "    # img_path = os.path.join(img_roll_dir, '%s'%(filename.replace('x','U_500_roll')))\n",
    "    img_path = os.path.join(img_roll_dir, '%s'%(filename.replace('x','V_500_roll')))\n",
    "    # print(img_path)\n",
    "    \n",
    "    if os.path.exists(img_path):\n",
    "        ct += 1\n",
    "        # name.add('%s'%(filename.replace('x','U_500_roll')))\n",
    "        name.add('%s'%(filename.replace('x','V_500_roll')))\n",
    "print(ct)\n",
    "print(len(name))\n",
    "    "
   ]
  },
  {
   "cell_type": "code",
   "execution_count": null,
   "metadata": {},
   "outputs": [],
   "source": []
  },
  {
   "cell_type": "code",
   "execution_count": null,
   "metadata": {},
   "outputs": [],
   "source": []
  },
  {
   "cell_type": "code",
   "execution_count": null,
   "metadata": {},
   "outputs": [],
   "source": []
  }
 ],
 "metadata": {
  "kernelspec": {
   "display_name": "torch-1-13",
   "language": "python",
   "name": "python3"
  },
  "language_info": {
   "codemirror_mode": {
    "name": "ipython",
    "version": 3
   },
   "file_extension": ".py",
   "mimetype": "text/x-python",
   "name": "python",
   "nbconvert_exporter": "python",
   "pygments_lexer": "ipython3",
   "version": "3.10.6"
  },
  "orig_nbformat": 4,
  "vscode": {
   "interpreter": {
    "hash": "e772f1295b38b14721dba06702a36707d4e027898f9d3d21c4b1e0832f00d6f9"
   }
  }
 },
 "nbformat": 4,
 "nbformat_minor": 2
}
