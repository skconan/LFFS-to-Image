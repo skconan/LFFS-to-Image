{
 "cells": [
  {
   "attachments": {},
   "cell_type": "markdown",
   "metadata": {},
   "source": [
    "# Filtering the rolled and latent mates \n",
    "\n",
    "present in the finger position annotation in the SD302h subset."
   ]
  },
  {
   "cell_type": "code",
   "execution_count": null,
   "metadata": {},
   "outputs": [],
   "source": [
    "import os\n",
    "import sys\n",
    "import shutil\n",
    "import pandas as pd\n",
    "\n",
    "sys.path.append(os.path.abspath('../src'))\n",
    "from utils.file import list_files, make_dirs, get_file_name\n"
   ]
  },
  {
   "attachments": {},
   "cell_type": "markdown",
   "metadata": {},
   "source": [
    "## NIST SD302h path"
   ]
  },
  {
   "cell_type": "code",
   "execution_count": null,
   "metadata": {},
   "outputs": [],
   "source": [
    "csv_path = r'H:\\Workspace\\KSIP\\02_Database\\00_ORIGINAL\\NIST_SD302\\sd302h\\ebts\\latent\\finger_positions.csv'"
   ]
  },
  {
   "cell_type": "code",
   "execution_count": null,
   "metadata": {},
   "outputs": [],
   "source": [
    "img_roll_u_dir = r'H:\\Workspace\\KSIP\\02_Database\\00_ORIGINAL\\NIST_SD302\\sd302b\\images\\baseline\\U\\500\\roll\\png'\n",
    "img_roll_v_dir = r'H:\\Workspace\\KSIP\\02_Database\\00_ORIGINAL\\NIST_SD302\\sd302b\\images\\baseline\\V\\500\\roll\\png'\n",
    "ebts_latent_dir = r'H:\\Workspace\\KSIP\\02_Database\\00_ORIGINAL\\NIST_SD302\\sd302h\\ebts\\latent'\n",
    "latent_dir = r'H:\\Workspace\\KSIP\\02_Database\\00_ORIGINAL\\NIST_SD302\\sd302h\\png\\latent\\lffs\\original\\1000'\n"
   ]
  },
  {
   "cell_type": "code",
   "execution_count": null,
   "metadata": {},
   "outputs": [],
   "source": [
    "data = pd.read_csv(csv_path)\n",
    "display(data.head())\n",
    "display(data.tail())\n",
    "data.count()\n"
   ]
  },
  {
   "cell_type": "code",
   "execution_count": null,
   "metadata": {},
   "outputs": [],
   "source": [
    "data.describe()"
   ]
  },
  {
   "cell_type": "markdown",
   "metadata": {},
   "source": [
    "## Filter Nan"
   ]
  },
  {
   "cell_type": "code",
   "execution_count": null,
   "metadata": {},
   "outputs": [],
   "source": [
    "data = data.dropna()\n",
    "display(data.count())\n",
    "data.describe()\n"
   ]
  },
  {
   "cell_type": "code",
   "execution_count": null,
   "metadata": {},
   "outputs": [],
   "source": [
    "ct = 0\n",
    "finger_pos = {'filename':[]}\n",
    "for d in data.iterrows():\n",
    "    d = d[1]\n",
    "    filename = d.filename\n",
    "    if 'X' in filename:\n",
    "        continue\n",
    "    ct += 1\n",
    "print(ct)\n",
    "    "
   ]
  },
  {
   "attachments": {},
   "cell_type": "markdown",
   "metadata": {},
   "source": [
    "## Filter impression"
   ]
  },
  {
   "cell_type": "code",
   "execution_count": null,
   "metadata": {},
   "outputs": [],
   "source": [
    "ct = 0\n",
    "finger_pos = {'lffs_file':[], 'roll_u_file':[], 'roll_v_file':[]}\n",
    "for d in data.iterrows():\n",
    "    d = d[1]\n",
    "    filename = d.filename\n",
    "    # print(filename)\n",
    "    filename_split = filename.split(\"_\")\n",
    "    subject = filename_split[0]\n",
    "\n",
    "    # Remove nth impression where n > 1\n",
    "    if '-2' in filename or '-3' in filename or '-4' in filename:\n",
    "        continue\n",
    "    \n",
    "    roll_fname = '%s_x_%02d.png'%(subject,d.fgp)\n",
    "    roll_v_fname = roll_fname.replace('x','V_500_roll')\n",
    "    roll_u_fname = roll_fname.replace('x','U_500_roll')\n",
    "\n",
    "    if roll_u_fname in finger_pos['roll_u_file']:\n",
    "        continue\n",
    "    finger_pos['lffs_file'].append(filename)\n",
    "    finger_pos['roll_u_file'].append(roll_u_fname)\n",
    "    finger_pos['roll_v_file'].append(roll_v_fname)\n",
    "    ct += 1\n",
    "print(ct)\n",
    "    "
   ]
  },
  {
   "cell_type": "code",
   "execution_count": null,
   "metadata": {},
   "outputs": [],
   "source": [
    "df_finger_pos = pd.DataFrame(finger_pos)\n",
    "df_finger_pos"
   ]
  },
  {
   "attachments": {},
   "cell_type": "markdown",
   "metadata": {},
   "source": [
    "## Filter lffs files, it has mate in roll"
   ]
  },
  {
   "cell_type": "code",
   "execution_count": null,
   "metadata": {},
   "outputs": [],
   "source": [
    "rm_list = []\n",
    "ct = 0\n",
    "for d in df_finger_pos.iterrows():\n",
    "    d = d[1]\n",
    "    roll_u_fname = d.roll_u_file\n",
    "    roll_v_fname = d.roll_v_file\n",
    "\n",
    "    roll_u_path = os.path.join(img_roll_u_dir, roll_u_fname)\n",
    "    roll_v_path = os.path.join(img_roll_v_dir, roll_v_fname)\n",
    "    \n",
    "    if os.path.exists(roll_u_path) and os.path.exists(roll_v_path):\n",
    "        ct += 1\n",
    "    else:\n",
    "        rm_list.append(roll_u_fname)\n",
    "        print(roll_u_path)\n",
    "        print(roll_v_path)\n",
    "\n",
    "print(ct)\n",
    "\n",
    "for roll_u_fname in rm_list:\n",
    "    df_finger_pos = df_finger_pos.drop(df_finger_pos[df_finger_pos.roll_u_file == roll_u_fname].index)"
   ]
  },
  {
   "cell_type": "code",
   "execution_count": null,
   "metadata": {},
   "outputs": [],
   "source": [
    "df_finger_pos.to_csv('./NIST_SD302h_mate.csv', index=False)\n",
    "df_finger_pos"
   ]
  },
  {
   "attachments": {},
   "cell_type": "markdown",
   "metadata": {},
   "source": [
    "## Copy mate roll and latent image"
   ]
  },
  {
   "cell_type": "code",
   "execution_count": null,
   "metadata": {},
   "outputs": [],
   "source": [
    "db_dir = r'D:\\OneDrive\\workspace\\KSIP\\02_Database\\00_ORIGINAL_IMAGE'\n",
    "\n",
    "filtered_latent_dir = os.path.join(db_dir, 'NIST_SD302h_filtered')\n",
    "filtered_img_roll_u_dir = os.path.join(db_dir, 'NIST_SD302b_filtered/U')\n",
    "filtered_img_roll_v_dir = os.path.join(db_dir, 'NIST_SD302b_filtered/V')\n",
    "\n",
    "make_dirs(filtered_latent_dir)\n",
    "make_dirs(filtered_img_roll_u_dir)\n",
    "make_dirs(filtered_img_roll_v_dir)"
   ]
  },
  {
   "cell_type": "code",
   "execution_count": null,
   "metadata": {},
   "outputs": [],
   "source": [
    "for d in df_finger_pos.iterrows():\n",
    "    d = d[1]\n",
    "    roll_u_fname = d.roll_u_file\n",
    "    roll_v_fname = d.roll_v_file\n",
    "    lffs_fname = d.lffs_file\n",
    "    latent_fname = lffs_fname.replace('.lffs', '.jpg')\n",
    "\n",
    "    src_path_latent = os.path.join(latent_dir, latent_fname)\n",
    "    src_path_roll_u = os.path.join(img_roll_u_dir, roll_u_fname)\n",
    "    src_path_roll_v = os.path.join(img_roll_v_dir, roll_v_fname)\n",
    "\n",
    "    out_path_latent = os.path.join(filtered_latent_dir, latent_fname)\n",
    "    out_path_roll_u = os.path.join(filtered_img_roll_u_dir, roll_u_fname)\n",
    "    out_path_roll_v = os.path.join(filtered_img_roll_v_dir, roll_v_fname)\n",
    "\n",
    "    shutil.copy(src_path_latent, out_path_latent)\n",
    "    shutil.copy(src_path_roll_u, out_path_roll_u)\n",
    "    shutil.copy(src_path_roll_v, out_path_roll_v)\n"
   ]
  },
  {
   "cell_type": "code",
   "execution_count": null,
   "metadata": {},
   "outputs": [],
   "source": []
  },
  {
   "cell_type": "code",
   "execution_count": null,
   "metadata": {},
   "outputs": [],
   "source": []
  }
 ],
 "metadata": {
  "kernelspec": {
   "display_name": "torch-1-13",
   "language": "python",
   "name": "python3"
  },
  "language_info": {
   "codemirror_mode": {
    "name": "ipython",
    "version": 3
   },
   "file_extension": ".py",
   "mimetype": "text/x-python",
   "name": "python",
   "nbconvert_exporter": "python",
   "pygments_lexer": "ipython3",
   "version": "3.10.6"
  },
  "orig_nbformat": 4,
  "vscode": {
   "interpreter": {
    "hash": "e772f1295b38b14721dba06702a36707d4e027898f9d3d21c4b1e0832f00d6f9"
   }
  }
 },
 "nbformat": 4,
 "nbformat_minor": 2
}
